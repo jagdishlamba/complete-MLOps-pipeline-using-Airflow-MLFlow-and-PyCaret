{
 "cells": [
  {
   "cell_type": "code",
   "execution_count": 2,
   "id": "c6544d88-55cf-4b2b-939d-5b173750aa3a",
   "metadata": {},
   "outputs": [],
   "source": [
    "from utils import *"
   ]
  },
  {
   "cell_type": "code",
   "execution_count": 2,
   "id": "38c5f111-9e6d-41b2-837c-42fda253ffb0",
   "metadata": {},
   "outputs": [],
   "source": [
    "from constants import *"
   ]
  },
  {
   "cell_type": "code",
   "execution_count": 3,
   "id": "10493f07-ca21-43d7-9b30-fd0f0b5e1e09",
   "metadata": {},
   "outputs": [],
   "source": [
    "encode_features()"
   ]
  },
  {
   "cell_type": "code",
   "execution_count": 5,
   "id": "42da9460-ed72-4a15-bdb5-6bb153b8c5f0",
   "metadata": {},
   "outputs": [],
   "source": [
    "get_models_prediction()"
   ]
  },
  {
   "cell_type": "code",
   "execution_count": 3,
   "id": "4b494f13-c870-4b4d-aa10-3dfe8d7fdcde",
   "metadata": {},
   "outputs": [],
   "source": [
    "prediction_ratio_check()"
   ]
  },
  {
   "cell_type": "code",
   "execution_count": 3,
   "id": "eba658a4-6c52-449a-8080-85a79d73482f",
   "metadata": {},
   "outputs": [
    {
     "name": "stdout",
     "output_type": "stream",
     "text": [
      "All the models input are present\n"
     ]
    }
   ],
   "source": [
    "input_features_check()"
   ]
  },
  {
   "cell_type": "code",
   "execution_count": null,
   "id": "141e2f08-b4c6-490d-9d3e-7d1b5a1a3978",
   "metadata": {},
   "outputs": [],
   "source": []
  }
 ],
 "metadata": {
  "kernelspec": {
   "display_name": "Python 3 (ipykernel)",
   "language": "python",
   "name": "python3"
  },
  "language_info": {
   "codemirror_mode": {
    "name": "ipython",
    "version": 3
   },
   "file_extension": ".py",
   "mimetype": "text/x-python",
   "name": "python",
   "nbconvert_exporter": "python",
   "pygments_lexer": "ipython3",
   "version": "3.8.12"
  }
 },
 "nbformat": 4,
 "nbformat_minor": 5
}
