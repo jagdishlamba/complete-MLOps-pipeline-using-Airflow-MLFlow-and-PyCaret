{
 "cells": [
  {
   "cell_type": "code",
   "execution_count": 1,
   "id": "53567551-e647-4a33-b0c6-0e0c99f674e6",
   "metadata": {},
   "outputs": [],
   "source": [
    "from utils import *\n",
    "import warnings\n",
    "warnings.filterwarnings(\"ignore\")"
   ]
  },
  {
   "cell_type": "code",
   "execution_count": 2,
   "id": "1c6f29c6-922f-4e35-be80-9aa0a307aa68",
   "metadata": {},
   "outputs": [
    {
     "name": "stdout",
     "output_type": "stream",
     "text": [
      "DB Already Exists\n"
     ]
    },
    {
     "data": {
      "text/plain": [
       "'DB Exists'"
      ]
     },
     "execution_count": 2,
     "metadata": {},
     "output_type": "execute_result"
    }
   ],
   "source": [
    "build_dbs()"
   ]
  },
  {
   "cell_type": "code",
   "execution_count": 3,
   "id": "48490226-95b2-4936-89e3-f745a3c01158",
   "metadata": {},
   "outputs": [
    {
     "name": "stdout",
     "output_type": "stream",
     "text": [
      "Table already Exist - loaded_data, Replacing data..\n"
     ]
    }
   ],
   "source": [
    "load_data_into_db()"
   ]
  },
  {
   "cell_type": "code",
   "execution_count": 4,
   "id": "f186c0aa-1789-41ab-b364-c494bb59783f",
   "metadata": {},
   "outputs": [
    {
     "name": "stdout",
     "output_type": "stream",
     "text": [
      "Table already Exist - city_tier_mapped, Replacing data..\n"
     ]
    }
   ],
   "source": [
    "map_city_tier()"
   ]
  },
  {
   "cell_type": "code",
   "execution_count": 5,
   "id": "f22235ce-2d1a-4526-9e9b-3a4a20076910",
   "metadata": {},
   "outputs": [],
   "source": [
    "map_categorical_vars()"
   ]
  },
  {
   "cell_type": "code",
   "execution_count": 6,
   "id": "d50dfd65-e750-4e3f-ac07-11dd589f65b6",
   "metadata": {},
   "outputs": [],
   "source": [
    "interactions_mapping()"
   ]
  },
  {
   "cell_type": "code",
   "execution_count": null,
   "id": "63d8b4e7-1922-43ae-abce-df93e407ab51",
   "metadata": {},
   "outputs": [],
   "source": []
  }
 ],
 "metadata": {
  "kernelspec": {
   "display_name": "Python 3 (ipykernel)",
   "language": "python",
   "name": "python3"
  },
  "language_info": {
   "codemirror_mode": {
    "name": "ipython",
    "version": 3
   },
   "file_extension": ".py",
   "mimetype": "text/x-python",
   "name": "python",
   "nbconvert_exporter": "python",
   "pygments_lexer": "ipython3",
   "version": "3.8.12"
  }
 },
 "nbformat": 4,
 "nbformat_minor": 5
}
