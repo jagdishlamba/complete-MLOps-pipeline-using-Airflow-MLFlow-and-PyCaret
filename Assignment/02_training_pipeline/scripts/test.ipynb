{
 "cells": [
  {
   "cell_type": "code",
   "execution_count": 1,
   "id": "7d0330a3-69c5-4416-a101-2cb9d075b754",
   "metadata": {},
   "outputs": [],
   "source": [
    "from utils import *\n",
    "from constants import *\n",
    "from lead_scoring_training_pipeline import *"
   ]
  },
  {
   "cell_type": "code",
   "execution_count": 2,
   "id": "38ce558e-889d-4d89-a440-9d8c1fa7a947",
   "metadata": {},
   "outputs": [],
   "source": [
    "encode_features()"
   ]
  },
  {
   "cell_type": "code",
   "execution_count": 3,
   "id": "a6fd33bd-08ed-40b3-b97a-674545005508",
   "metadata": {},
   "outputs": [
    {
     "name": "stderr",
     "output_type": "stream",
     "text": [
      "2023/06/16 12:56:31 INFO mlflow.tracking.fluent: Experiment with name 'Lead_scoring_mlflow_production' does not exist. Creating a new experiment.\n"
     ]
    },
    {
     "data": {
      "text/html": [
       "<pre style=\"white-space:pre;overflow-x:auto;line-height:normal;font-family:Menlo,'DejaVu Sans Mono',consolas,'Courier New',monospace\"><span style=\"color: #808000; text-decoration-color: #808000; font-weight: bold\">/opt/conda/lib/python3.8/site-packages/sklearn/utils/validation.py:</span><span style=\"color: #808000; text-decoration-color: #808000; font-weight: bold\">72</span><span style=\"color: #808000; text-decoration-color: #808000; font-weight: bold\"> DataConversionWarning</span><span style=\"color: #808000; text-decoration-color: #808000\">: A column-vector y was passed when a 1d array was expected. Please change the shape of y to </span><span style=\"color: #808000; text-decoration-color: #808000; font-weight: bold\">(</span><span style=\"color: #808000; text-decoration-color: #808000\">n_samples, </span><span style=\"color: #808000; text-decoration-color: #808000; font-weight: bold\">)</span><span style=\"color: #808000; text-decoration-color: #808000\">, for example using </span><span style=\"color: #808000; text-decoration-color: #808000; font-weight: bold\">ravel()</span><span style=\"color: #808000; text-decoration-color: #808000\">.</span>\n",
       "</pre>\n"
      ],
      "text/plain": [
       "\u001b[1;33m/opt/conda/lib/python3.8/site-packages/sklearn/utils/\u001b[0m\u001b[1;33mvalidation.py\u001b[0m\u001b[1;33m:\u001b[0m\u001b[1;33m72\u001b[0m\u001b[1;33m DataConversionWarning\u001b[0m\u001b[33m: A column-vector y was passed when a 1d array was expected. Please change the shape of y to \u001b[0m\u001b[1;33m(\u001b[0m\u001b[33mn_samples, \u001b[0m\u001b[1;33m)\u001b[0m\u001b[33m, for example using \u001b[0m\u001b[1;33mravel\u001b[0m\u001b[1;33m(\u001b[0m\u001b[1;33m)\u001b[0m\u001b[33m.\u001b[0m\n"
      ]
     },
     "metadata": {},
     "output_type": "display_data"
    },
    {
     "name": "stderr",
     "output_type": "stream",
     "text": [
      "Successfully registered model 'LightGBM'.\n",
      "2023/06/16 12:56:42 INFO mlflow.tracking._model_registry.client: Waiting up to 300 seconds for model version to finish creation.                     Model name: LightGBM, version 1\n",
      "Created version '1' of model 'LightGBM'.\n"
     ]
    }
   ],
   "source": [
    "get_trained_model()"
   ]
  },
  {
   "cell_type": "code",
   "execution_count": null,
   "id": "ffd51dd9-5c87-420f-b04f-0510189593da",
   "metadata": {},
   "outputs": [],
   "source": []
  }
 ],
 "metadata": {
  "kernelspec": {
   "display_name": "Python 3 (ipykernel)",
   "language": "python",
   "name": "python3"
  },
  "language_info": {
   "codemirror_mode": {
    "name": "ipython",
    "version": 3
   },
   "file_extension": ".py",
   "mimetype": "text/x-python",
   "name": "python",
   "nbconvert_exporter": "python",
   "pygments_lexer": "ipython3",
   "version": "3.8.12"
  }
 },
 "nbformat": 4,
 "nbformat_minor": 5
}
